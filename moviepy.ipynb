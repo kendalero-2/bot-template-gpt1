{
  "nbformat": 4,
  "nbformat_minor": 0,
  "metadata": {
    "colab": {
      "provenance": [],
      "mount_file_id": "1U4DOWyN-7SVKfyWeZnRCR5Tsg9xtoD8g",
      "authorship_tag": "ABX9TyN8P95gpvP7ambbeLGtyRF7",
      "include_colab_link": true
    },
    "kernelspec": {
      "name": "python3",
      "display_name": "Python 3"
    },
    "language_info": {
      "name": "python"
    }
  },
  "cells": [
    {
      "cell_type": "markdown",
      "metadata": {
        "id": "view-in-github",
        "colab_type": "text"
      },
      "source": [
        "<a href=\"https://colab.research.google.com/github/kendalero-2/bot-template-gpt1/blob/main/moviepy.ipynb\" target=\"_parent\"><img src=\"https://colab.research.google.com/assets/colab-badge.svg\" alt=\"Open In Colab\"/></a>"
      ]
    },
    {
      "cell_type": "code",
      "execution_count": 4,
      "metadata": {
        "id": "e_snifmBuU28",
        "colab": {
          "base_uri": "https://localhost:8080/"
        },
        "outputId": "1abcd7c8-16fe-447f-a296-f45e1e844b54"
      },
      "outputs": [
        {
          "output_type": "stream",
          "name": "stdout",
          "text": [
            "Overwriting editar_video.py\n"
          ]
        }
      ],
      "source": [
        "%%writefile editar_video.py\n",
        "# Paso 1: Instalar Python 3.9 y herramientas necesarias\n",
        "!sudo apt-get update\n",
        "!sudo apt-get install python3.9 python3.9-venv\n",
        "\n",
        "# Paso 2: Crear y activar un entorno virtual con Python 3.9\n",
        "!python3.9 -m venv myenv\n",
        "!source myenv/bin/activate\n",
        "\n",
        "# Paso 3: Verificar la versión de Python\n",
        "!python --version\n",
        "\n",
        "# Paso 4: Instalar ImageMagick (necesario para moviepy)\n",
        "!sudo apt-get install imagemagick\n",
        "\n",
        "# Paso 5: Modificar la política de seguridad de ImageMagick\n",
        "!sudo mv /etc/ImageMagick-6/policy.xml /etc/ImageMagick-6/policy.xml.bak\n",
        "!echo '<policymap> <policy domain=\"coder\" rights=\"read | write\" pattern=\"*\" />  </policymap>' | sudo tee /etc/ImageMagick-6/policy.xml\n",
        "\n",
        "# Paso 6: Configurar moviepy para usar ImageMagick\n",
        "import moviepy.config as mpconfig\n",
        "mpconfig.change_settings({\"IMAGEMAGICK_BINARY\": \"/usr/bin/convert\"})\n",
        "\n",
        "# Paso 7: Instalar las bibliotecas necesarias\n",
        "!pip install moviepy yt-dlp\n",
        "\n",
        "# Paso 8: Verificar la instalación de ImageMagick\n",
        "!convert --version\n",
        "\n",
        "# Paso 9: Descargar y editar un video de YouTube (ejemplo)\n",
        "from moviepy.editor import VideoFileClip, TextClip, CompositeVideoClip\n",
        "\n",
        "# Descargar un video de YouTube usando yt-dlp\n",
        "!yt-dlp -o \"video_descargado.mp4\" \"https://www.youtube.com/watch?v=dQw4w9WgXcQ\"\n",
        "\n",
        "# Cargar el video descargado\n",
        "clip = VideoFileClip(\"video_descargado.mp4\")\n",
        "\n",
        "# Recortar el video (ejemplo: primeros 10 segundos)\n",
        "clip = clip.subclip(0, 10)\n",
        "\n",
        "# Crear un texto superpuesto\n",
        "texto = TextClip(\n",
        "    \"¡Hola desde Colab!\",  # Texto a mostrar\n",
        "    fontsize=50,           # Tamaño de la fuente\n",
        "    color=\"white\",         # Color del texto\n",
        "    font=\"Arial-Bold\",     # Fuente del texto\n",
        "    size=clip.size         # Tamaño del texto (igual al del video)\n",
        ").set_position(\"center\").set_duration(clip.duration)  # Posición y duración\n",
        "\n",
        "# Combinar el video con el texto superpuesto\n",
        "video_final = CompositeVideoClip([clip, texto])\n",
        "\n",
        "# Guardar el video editado\n",
        "video_final.write_videofile(\"video_editado.mp4\", codec=\"libx264\")\n",
        "\n",
        "# Mostrar un mensaje de éxito\n",
        "print(\"¡Video editado y guardado como 'video_editado.mp4'!\")\n",
        "\n",
        "\n",
        "\n",
        "\n",
        "\n",
        "\n",
        "# Montar Google Drive\n",
        "from google.colab import drive\n",
        "drive.mount('/content/drive')\n",
        "\n",
        "# Guardar el archivo en Google Drive\n",
        "ruta_destino = \"/content/drive/My Drive/editar_video.py\"\n",
        "!cp editar_video.py \"{ruta_destino}\"\n",
        "\n",
        "print(f\"¡Archivo guardado en Google Drive: {ruta_destino}!\")"
      ]
    },
    {
      "cell_type": "markdown",
      "source": [
        "https://colab.research.google.com/drive/1U4DOWyN-7SVKfyWeZnRCR5Tsg9xtoD8g#scrollTo=e_snifmBuU28"
      ],
      "metadata": {
        "id": "DiU6EPZLvvjO"
      }
    },
    {
      "cell_type": "markdown",
      "source": [
        "# Sección nueva"
      ],
      "metadata": {
        "id": "fsPLiG0mvcfc"
      }
    }
  ]
}