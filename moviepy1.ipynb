{
  "nbformat": 4,
  "nbformat_minor": 0,
  "metadata": {
    "colab": {
      "provenance": [],
      "mount_file_id": "1U4DOWyN-7SVKfyWeZnRCR5Tsg9xtoD8g",
      "authorship_tag": "ABX9TyNumFjhgvcqpjsvIgAQhYXx",
      "include_colab_link": true
    },
    "kernelspec": {
      "name": "python3",
      "display_name": "Python 3"
    },
    "language_info": {
      "name": "python"
    }
  },
  "cells": [
    {
      "cell_type": "markdown",
      "metadata": {
        "id": "view-in-github",
        "colab_type": "text"
      },
      "source": [
        "<a href=\"https://colab.research.google.com/github/kendalero-2/bot-template-gpt1/blob/main/moviepy1.ipynb\" target=\"_parent\"><img src=\"https://colab.research.google.com/assets/colab-badge.svg\" alt=\"Open In Colab\"/></a>"
      ]
    },
    {
      "cell_type": "code",
      "execution_count": null,
      "metadata": {
        "id": "e_snifmBuU28",
        "colab": {
          "base_uri": "https://localhost:8080/",
          "height": 1000
        },
        "outputId": "92e41096-4b2e-4bc0-fd0f-14f6336fd2e0"
      },
      "outputs": [
        {
          "output_type": "stream",
          "name": "stdout",
          "text": [
            "\r0% [Working]\r            \rHit:1 https://developer.download.nvidia.com/compute/cuda/repos/ubuntu2204/x86_64  InRelease\n",
            "Hit:2 https://cloud.r-project.org/bin/linux/ubuntu jammy-cran40/ InRelease\n",
            "Hit:3 http://archive.ubuntu.com/ubuntu jammy InRelease\n",
            "Hit:4 http://archive.ubuntu.com/ubuntu jammy-updates InRelease\n",
            "Hit:5 http://security.ubuntu.com/ubuntu jammy-security InRelease\n",
            "Hit:6 http://archive.ubuntu.com/ubuntu jammy-backports InRelease\n",
            "Hit:7 https://r2u.stat.illinois.edu/ubuntu jammy InRelease\n",
            "Hit:8 https://ppa.launchpadcontent.net/deadsnakes/ppa/ubuntu jammy InRelease\n",
            "Hit:9 https://ppa.launchpadcontent.net/graphics-drivers/ppa/ubuntu jammy InRelease\n",
            "Hit:10 https://ppa.launchpadcontent.net/ubuntugis/ppa/ubuntu jammy InRelease\n",
            "Reading package lists... Done\n",
            "W: Skipping acquire of configured file 'main/source/Sources' as repository 'https://r2u.stat.illinois.edu/ubuntu jammy InRelease' does not seem to provide it (sources.list entry misspelt?)\n",
            "Reading package lists... Done\n",
            "Building dependency tree... Done\n",
            "Reading state information... Done\n",
            "python3.9 is already the newest version (3.9.21-1+jammy1).\n",
            "python3.9-venv is already the newest version (3.9.21-1+jammy1).\n",
            "0 upgraded, 0 newly installed, 0 to remove and 21 not upgraded.\n",
            "Reading package lists... Done\n",
            "Building dependency tree... Done\n",
            "Reading state information... Done\n",
            "imagemagick is already the newest version (8:6.9.11.60+dfsg-1.3ubuntu0.22.04.5).\n",
            "0 upgraded, 0 newly installed, 0 to remove and 21 not upgraded.\n",
            "<policymap> <policy domain=\"coder\" rights=\"read | write\" pattern=\"*\" />  </policymap>\n",
            "Requirement already satisfied: moviepy in /usr/local/lib/python3.11/dist-packages (1.0.3)\n",
            "Requirement already satisfied: yt-dlp in /usr/local/lib/python3.11/dist-packages (2025.1.26)\n",
            "Requirement already satisfied: requests in /usr/local/lib/python3.11/dist-packages (2.32.3)\n",
            "Requirement already satisfied: decorator<5.0,>=4.0.2 in /usr/local/lib/python3.11/dist-packages (from moviepy) (4.4.2)\n",
            "Requirement already satisfied: imageio<3.0,>=2.5 in /usr/local/lib/python3.11/dist-packages (from moviepy) (2.36.1)\n",
            "Requirement already satisfied: imageio_ffmpeg>=0.2.0 in /usr/local/lib/python3.11/dist-packages (from moviepy) (0.6.0)\n",
            "Requirement already satisfied: tqdm<5.0,>=4.11.2 in /usr/local/lib/python3.11/dist-packages (from moviepy) (4.67.1)\n",
            "Requirement already satisfied: numpy>=1.17.3 in /usr/local/lib/python3.11/dist-packages (from moviepy) (1.26.4)\n",
            "Requirement already satisfied: proglog<=1.0.0 in /usr/local/lib/python3.11/dist-packages (from moviepy) (0.1.10)\n",
            "Requirement already satisfied: charset-normalizer<4,>=2 in /usr/local/lib/python3.11/dist-packages (from requests) (3.4.1)\n",
            "Requirement already satisfied: idna<4,>=2.5 in /usr/local/lib/python3.11/dist-packages (from requests) (3.10)\n",
            "Requirement already satisfied: urllib3<3,>=1.21.1 in /usr/local/lib/python3.11/dist-packages (from requests) (2.3.0)\n",
            "Requirement already satisfied: certifi>=2017.4.17 in /usr/local/lib/python3.11/dist-packages (from requests) (2024.12.14)\n",
            "Requirement already satisfied: pillow>=8.3.2 in /usr/local/lib/python3.11/dist-packages (from imageio<3.0,>=2.5->moviepy) (11.1.0)\n",
            "[youtube] Extracting URL: https://www.youtube.com/watch?v=dQw4w9WgXcQ\n",
            "[youtube] dQw4w9WgXcQ: Downloading webpage\n",
            "[youtube] dQw4w9WgXcQ: Downloading tv client config\n",
            "[youtube] dQw4w9WgXcQ: Downloading player f3d47b5a\n",
            "[youtube] dQw4w9WgXcQ: Downloading tv player API JSON\n",
            "[youtube] dQw4w9WgXcQ: Downloading ios player API JSON\n",
            "[youtube] dQw4w9WgXcQ: Downloading m3u8 information\n",
            "[info] dQw4w9WgXcQ: Downloading 1 format(s): 616+251\n",
            "[hlsnative] Downloading m3u8 manifest\n",
            "[hlsnative] Total fragments: 39\n",
            "[download] Destination: video_descargado.f616.mp4\n",
            "\u001b[K[download] 100% of   94.86MiB in \u001b[1;37m00:00:04\u001b[0m at \u001b[0;32m21.96MiB/s\u001b[0m\n",
            "[download] Destination: video_descargado.f251.webm\n",
            "\u001b[K[download] 100% of    3.28MiB in \u001b[1;37m00:00:00\u001b[0m at \u001b[0;32m45.13MiB/s\u001b[0m\n",
            "[Merger] Merging formats into \"video_descargado.webm\"\n",
            "Deleting original file video_descargado.f251.webm (pass -k to keep)\n",
            "Deleting original file video_descargado.f616.mp4 (pass -k to keep)\n",
            "Archivo descargado: video_descargado.mp4.webm\n",
            "Audio guardado exitosamente como 'output.mp3'\n",
            "Moviepy - Building video video_editado_con_audio.mp4.\n",
            "MoviePy - Writing audio in video_editado_con_audioTEMP_MPY_wvf_snd.mp3\n"
          ]
        },
        {
          "output_type": "stream",
          "name": "stderr",
          "text": []
        },
        {
          "output_type": "stream",
          "name": "stdout",
          "text": [
            "MoviePy - Done.\n",
            "Moviepy - Writing video video_editado_con_audio.mp4\n",
            "\n"
          ]
        },
        {
          "output_type": "stream",
          "name": "stderr",
          "text": []
        },
        {
          "output_type": "stream",
          "name": "stdout",
          "text": [
            "Moviepy - Done !\n",
            "Moviepy - video ready video_editado_con_audio.mp4\n",
            "¡Video editado y guardado como 'video_editado_con_audio.mp4'!\n"
          ]
        },
        {
          "output_type": "display_data",
          "data": {
            "text/plain": [
              "<IPython.core.display.Javascript object>"
            ],
            "application/javascript": [
              "\n",
              "    async function download(id, filename, size) {\n",
              "      if (!google.colab.kernel.accessAllowed) {\n",
              "        return;\n",
              "      }\n",
              "      const div = document.createElement('div');\n",
              "      const label = document.createElement('label');\n",
              "      label.textContent = `Downloading \"${filename}\": `;\n",
              "      div.appendChild(label);\n",
              "      const progress = document.createElement('progress');\n",
              "      progress.max = size;\n",
              "      div.appendChild(progress);\n",
              "      document.body.appendChild(div);\n",
              "\n",
              "      const buffers = [];\n",
              "      let downloaded = 0;\n",
              "\n",
              "      const channel = await google.colab.kernel.comms.open(id);\n",
              "      // Send a message to notify the kernel that we're ready.\n",
              "      channel.send({})\n",
              "\n",
              "      for await (const message of channel.messages) {\n",
              "        // Send a message to notify the kernel that we're ready.\n",
              "        channel.send({})\n",
              "        if (message.buffers) {\n",
              "          for (const buffer of message.buffers) {\n",
              "            buffers.push(buffer);\n",
              "            downloaded += buffer.byteLength;\n",
              "            progress.value = downloaded;\n",
              "          }\n",
              "        }\n",
              "      }\n",
              "      const blob = new Blob(buffers, {type: 'application/binary'});\n",
              "      const a = document.createElement('a');\n",
              "      a.href = window.URL.createObjectURL(blob);\n",
              "      a.download = filename;\n",
              "      div.appendChild(a);\n",
              "      a.click();\n",
              "      div.remove();\n",
              "    }\n",
              "  "
            ]
          },
          "metadata": {}
        },
        {
          "output_type": "display_data",
          "data": {
            "text/plain": [
              "<IPython.core.display.Javascript object>"
            ],
            "application/javascript": [
              "download(\"download_27311888-5383-44c1-bd55-dae1f2af3d3c\", \"video_editado_con_audio.mp4\", 4433618)"
            ]
          },
          "metadata": {}
        },
        {
          "output_type": "display_data",
          "data": {
            "text/plain": [
              "<IPython.core.display.Javascript object>"
            ],
            "application/javascript": [
              "\n",
              "    async function download(id, filename, size) {\n",
              "      if (!google.colab.kernel.accessAllowed) {\n",
              "        return;\n",
              "      }\n",
              "      const div = document.createElement('div');\n",
              "      const label = document.createElement('label');\n",
              "      label.textContent = `Downloading \"${filename}\": `;\n",
              "      div.appendChild(label);\n",
              "      const progress = document.createElement('progress');\n",
              "      progress.max = size;\n",
              "      div.appendChild(progress);\n",
              "      document.body.appendChild(div);\n",
              "\n",
              "      const buffers = [];\n",
              "      let downloaded = 0;\n",
              "\n",
              "      const channel = await google.colab.kernel.comms.open(id);\n",
              "      // Send a message to notify the kernel that we're ready.\n",
              "      channel.send({})\n",
              "\n",
              "      for await (const message of channel.messages) {\n",
              "        // Send a message to notify the kernel that we're ready.\n",
              "        channel.send({})\n",
              "        if (message.buffers) {\n",
              "          for (const buffer of message.buffers) {\n",
              "            buffers.push(buffer);\n",
              "            downloaded += buffer.byteLength;\n",
              "            progress.value = downloaded;\n",
              "          }\n",
              "        }\n",
              "      }\n",
              "      const blob = new Blob(buffers, {type: 'application/binary'});\n",
              "      const a = document.createElement('a');\n",
              "      a.href = window.URL.createObjectURL(blob);\n",
              "      a.download = filename;\n",
              "      div.appendChild(a);\n",
              "      a.click();\n",
              "      div.remove();\n",
              "    }\n",
              "  "
            ]
          },
          "metadata": {}
        },
        {
          "output_type": "display_data",
          "data": {
            "text/plain": [
              "<IPython.core.display.Javascript object>"
            ],
            "application/javascript": [
              "download(\"download_38778674-3215-4cda-80a4-723d3f27e80b\", \"output.mp3\", 22987)"
            ]
          },
          "metadata": {}
        },
        {
          "output_type": "display_data",
          "data": {
            "text/plain": [
              "<IPython.core.display.Javascript object>"
            ],
            "application/javascript": [
              "\n",
              "    async function download(id, filename, size) {\n",
              "      if (!google.colab.kernel.accessAllowed) {\n",
              "        return;\n",
              "      }\n",
              "      const div = document.createElement('div');\n",
              "      const label = document.createElement('label');\n",
              "      label.textContent = `Downloading \"${filename}\": `;\n",
              "      div.appendChild(label);\n",
              "      const progress = document.createElement('progress');\n",
              "      progress.max = size;\n",
              "      div.appendChild(progress);\n",
              "      document.body.appendChild(div);\n",
              "\n",
              "      const buffers = [];\n",
              "      let downloaded = 0;\n",
              "\n",
              "      const channel = await google.colab.kernel.comms.open(id);\n",
              "      // Send a message to notify the kernel that we're ready.\n",
              "      channel.send({})\n",
              "\n",
              "      for await (const message of channel.messages) {\n",
              "        // Send a message to notify the kernel that we're ready.\n",
              "        channel.send({})\n",
              "        if (message.buffers) {\n",
              "          for (const buffer of message.buffers) {\n",
              "            buffers.push(buffer);\n",
              "            downloaded += buffer.byteLength;\n",
              "            progress.value = downloaded;\n",
              "          }\n",
              "        }\n",
              "      }\n",
              "      const blob = new Blob(buffers, {type: 'application/binary'});\n",
              "      const a = document.createElement('a');\n",
              "      a.href = window.URL.createObjectURL(blob);\n",
              "      a.download = filename;\n",
              "      div.appendChild(a);\n",
              "      a.click();\n",
              "      div.remove();\n",
              "    }\n",
              "  "
            ]
          },
          "metadata": {}
        },
        {
          "output_type": "display_data",
          "data": {
            "text/plain": [
              "<IPython.core.display.Javascript object>"
            ],
            "application/javascript": [
              "download(\"download_f5e7ee43-efe1-4ef7-b819-9aa0cc726f0c\", \"video_descargado.mp4.webm\", 102906582)"
            ]
          },
          "metadata": {}
        },
        {
          "output_type": "stream",
          "name": "stdout",
          "text": [
            "¡Todos los archivos han sido descargados en tu navegador!\n"
          ]
        }
      ],
      "source": [
        "\n",
        "# Paso 1: Instalar dependencias\n",
        "!sudo apt-get update\n",
        "!sudo apt-get install python3.9 python3.9-venv\n",
        "!python3.9 -m venv myenv\n",
        "!source myenv/bin/activate\n",
        "!sudo apt-get install imagemagick\n",
        "!sudo mv /etc/ImageMagick-6/policy.xml /etc/ImageMagick-6/policy.xml.bak\n",
        "!echo '<policymap> <policy domain=\"coder\" rights=\"read | write\" pattern=\"*\" />  </policymap>' | sudo tee /etc/ImageMagick-6/policy.xml\n",
        "!pip install moviepy yt-dlp requests\n",
        "\n",
        "# Paso 2: Descargar un video de YouTube\n",
        "video_url = \"https://www.youtube.com/watch?v=dQw4w9WgXcQ\"  # Cambia esta URL si es necesario\n",
        "output_video = \"video_descargado\"\n",
        "\n",
        "# Descargar el video usando yt-dlp\n",
        "!yt-dlp -o \"{output_video}\" \"{video_url}\"\n",
        "\n",
        "# Verificar el nombre real del archivo descargado\n",
        "import os\n",
        "import glob\n",
        "\n",
        "# Buscar el archivo descargado (puede ser .mp4, .webm, etc.)\n",
        "archivo_descargado = glob.glob(f\"{output_video}.*\")[0]  # Tomamos el primer archivo que coincida\n",
        "print(f\"Archivo descargado: {archivo_descargado}\")\n",
        "\n",
        "# Paso 3: Generar audio usando la API de ElevenLabs\n",
        "import requests\n",
        "import json\n",
        "\n",
        "url = \"https://api.elevenlabs.io/v1/text-to-speech/AcERRlWeeyUhaV8Z6nI7\"\n",
        "texto = \"Eres mi cachetona.\"\n",
        "\n",
        "payload = json.dumps({\n",
        "    \"text\": texto,\n",
        "    \"model_id\": \"eleven_multilingual_v2\"\n",
        "}, ensure_ascii=False)\n",
        "\n",
        "headers = {\n",
        "    'xi-api-key': 'sk_334e73750a72750c8f55141d37befb05b47a94bcf9181e1d',  # Reemplaza con tu clave de API\n",
        "    'Content-Type': 'application/json; charset=utf-8'\n",
        "}\n",
        "\n",
        "response = requests.request(\"POST\", url, headers=headers, data=payload.encode('utf-8'))\n",
        "\n",
        "# Verificar si la solicitud fue exitosa\n",
        "if response.status_code == 200:\n",
        "    # Guardar la respuesta como archivo de audio\n",
        "    with open('output.mp3', 'wb') as audio_file:\n",
        "        audio_file.write(response.content)\n",
        "    print(\"Audio guardado exitosamente como 'output.mp3'\")\n",
        "else:\n",
        "    print(f\"Error: {response.status_code}\")\n",
        "    print(response.text)\n",
        "\n",
        "# Paso 4: Editar el video\n",
        "from moviepy.editor import VideoFileClip, TextClip, CompositeVideoClip, AudioFileClip\n",
        "\n",
        "# Cargar el video descargado\n",
        "clip = VideoFileClip(archivo_descargado)\n",
        "\n",
        "# Recortar el video (ejemplo: primeros 10 segundos)\n",
        "clip = clip.subclip(0, 10)\n",
        "\n",
        "# Crear un texto superpuesto\n",
        "texto = TextClip(\n",
        "    \"¡Hola desde Colab!\",  # Texto a mostrar\n",
        "    fontsize=50,           # Tamaño de la fuente\n",
        "    color=\"white\",         # Color del texto\n",
        "    font=\"Arial-Bold\",     # Fuente del texto\n",
        "    size=clip.size         # Tamaño del texto (igual al del video)\n",
        ").set_position(\"center\").set_duration(clip.duration)  # Posición y duración\n",
        "\n",
        "# Combinar el video con el texto superpuesto\n",
        "video_final = CompositeVideoClip([clip, texto])\n",
        "\n",
        "# Paso 5: Añadir el audio generado al video\n",
        "audio = AudioFileClip(\"output.mp3\")\n",
        "video_final = video_final.set_audio(audio)\n",
        "\n",
        "# Guardar el video editado con el audio\n",
        "output_final = \"video_editado_con_audio.mp4\"\n",
        "video_final.write_videofile(output_final, codec=\"libx264\")\n",
        "\n",
        "# Mostrar un mensaje de éxito\n",
        "print(f\"¡Video editado y guardado como '{output_final}'!\")\n",
        "\n",
        "# Paso 6: Descargar los archivos en el navegador\n",
        "from google.colab import files\n",
        "\n",
        "# Descargar el video editado\n",
        "files.download(output_final)\n",
        "\n",
        "# Descargar el audio generado\n",
        "files.download(\"output.mp3\")\n",
        "\n",
        "# Descargar el video original (opcional)\n",
        "files.download(archivo_descargado)\n",
        "\n",
        "print(\"¡Todos los archivos han sido descargados en tu navegador!\")"
      ]
    },
    {
      "cell_type": "markdown",
      "source": [
        "https://colab.research.google.com/drive/1U4DOWyN-7SVKfyWeZnRCR5Tsg9xtoD8g#scrollTo=e_snifmBuU28"
      ],
      "metadata": {
        "id": "DiU6EPZLvvjO"
      }
    },
    {
      "cell_type": "markdown",
      "source": [
        "# Sección nueva"
      ],
      "metadata": {
        "id": "fsPLiG0mvcfc"
      }
    }
  ]
}